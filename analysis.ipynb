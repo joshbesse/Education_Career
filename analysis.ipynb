{
 "cells": [
  {
   "cell_type": "markdown",
   "metadata": {},
   "source": [
    "<h1><b>Education & Career Success</b></h1>\n",
    "\n",
    "<p>Overview: This dataset explores the relationship between academic performance and career success. It includes 5000 records of students' educational backgrounds, skills, and career outcomes. The dataset can be used for various analyses, such as predicting job success based on education, identifying key factors influencing salaries, and understanding the role of networking and internships in career growth.</p>\n",
    "\n",
    "<a href=\"https://www.kaggle.com/datasets/adilshamim8/education-and-career-success\">Dataset Source</a>"
   ]
  },
  {
   "cell_type": "markdown",
   "metadata": {},
   "source": [
    "<h2>Data Collection<h2>"
   ]
  },
  {
   "cell_type": "code",
   "execution_count": 110,
   "metadata": {},
   "outputs": [
    {
     "name": "stdout",
     "output_type": "stream",
     "text": [
      "  Student_ID  Age  Gender  High_School_GPA  SAT_Score  University_Ranking  University_GPA    Field_of_Study  Internships_Completed  Projects_Completed  Certifications  Soft_Skills_Score  Networking_Score  Job_Offers  Starting_Salary  Career_Satisfaction  Years_to_Promotion Current_Job_Level  Work_Life_Balance Entrepreneurship\n",
      "0     S00001   24    Male             3.58       1052                 291            3.96              Arts                      3                   7               2                  9                 8           5          27200.0                    4                   5             Entry                  7               No\n",
      "1     S00002   21   Other             2.52       1211                 112            3.63               Law                      4                   7               3                  8                 1           4          25000.0                    1                   1               Mid                  7               No\n",
      "2     S00003   28  Female             3.42       1193                 715            2.63          Medicine                      4                   8               1                  1                 9           0          42400.0                    9                   3             Entry                  7               No\n",
      "3     S00004   25    Male             2.43       1497                 170            2.81  Computer Science                      3                   9               1                 10                 6           1          57400.0                    7                   5               Mid                  5               No\n",
      "4     S00005   22    Male             2.08       1012                 599            2.48       Engineering                      4                   6               4                 10                 9           4          47600.0                    9                   5             Entry                  2               No\n"
     ]
    }
   ],
   "source": [
    "import pandas as pd\n",
    "\n",
    "# load data\n",
    "df = pd.read_csv('./education_career_success.csv')\n",
    "\n",
    "# check data\n",
    "pd.set_option('display.expand_frame_repr', False)\n",
    "print(df.head())"
   ]
  },
  {
   "cell_type": "markdown",
   "metadata": {},
   "source": [
    "<h2>Defining Objectives</h2>\n",
    "<ol>\n",
    "    <li>Look at the relationship between high school performance and college characteristics.</li>\n",
    "        <ul>\n",
    "            <li>Does high school performance (GPA, SAT) indicate college rank?</li>\n",
    "            <li>Does high school performance (GPA, SAT) indicate college GPA?</li>\n",
    "            <li>Does high school performance (GPA, SAT) indicate major?</li>\n",
    "        </ul>\n",
    "    <li>Look at the relationship between major and college performance.</li>\n",
    "        <ul>\n",
    "            <li>Does major indicate GPA?</li>\n",
    "            <li>Does major indicate number of internships?</li>\n",
    "        </ul>   \n",
    "    <li>Look at relationship between college performance and post-grad success.</li>\n",
    "        <ul>\n",
    "            <li>Does college performance (GPA, internships) indicate number of job offers?</li>\n",
    "            <li>Does college performance (GPA, internships) indicate starting salary?</li>\n",
    "        </ul>\n",
    "    <li>Look at the relationship between major and post-grad happiness.</li>\n",
    "        <ul>\n",
    "            <li>Does major indicate career satisfaction?</li>\n",
    "            <li>Does major indicate work life balance?</li>\n",
    "        </ul>\n",
    "    <li>Look at the relationship between gender and major and starting salary.</li>\n",
    "        <ul>\n",
    "            <li>Does gender indicate major?</li>\n",
    "            <li>Does gender indicate starting salary?</li>\n",
    "        </ul>\n",
    "</ol>"
   ]
  },
  {
   "cell_type": "markdown",
   "metadata": {},
   "source": [
    "<h2>Data Cleaning</h2>"
   ]
  },
  {
   "cell_type": "code",
   "execution_count": 109,
   "metadata": {},
   "outputs": [
    {
     "name": "stdout",
     "output_type": "stream",
     "text": [
      "Student_ID: ['S00001' 'S00002' 'S00003' ... 'S04998' 'S04999' 'S05000']\n",
      "Age: [24 21 28 25 22 27 20 23 19 29 18 26]\n",
      "Gender: ['Male' 'Other' 'Female']\n",
      "High_School_GPA: [3.58 2.52 3.42 2.43 2.08 2.4  2.36 2.68 2.84 3.02 2.95 2.54 2.06 3.21\n",
      " 2.79 2.6  3.73 3.49 3.72 2.99 2.26 3.39 2.41 2.88 2.13 3.65 2.25 3.81\n",
      " 2.93 3.24 3.61 2.86 3.57 2.92 3.88 2.97 3.64 3.11 2.94 3.94 3.51 3.62\n",
      " 2.07 3.29 3.66 2.1  3.7  3.1  2.39 2.63 2.56 3.06 2.32 3.63 2.27 2.47\n",
      " 2.91 3.03 3.53 2.89 2.23 2.31 2.87 3.16 2.78 2.34 2.45 3.15 2.85 3.33\n",
      " 3.71 2.98 3.95 2.67 3.19 2.18 3.92 3.43 3.41 3.18 2.9  3.91 3.   3.86\n",
      " 3.17 3.08 2.42 2.01 2.48 2.76 3.96 2.7  3.55 3.14 3.52 2.3  2.51 2.46\n",
      " 2.02 2.62 3.97 2.49 2.04 3.28 2.83 3.31 3.38 3.13 3.35 3.89 2.28 2.66\n",
      " 3.8  3.99 3.04 2.59 2.03 2.44 3.75 2.17 3.3  2.5  3.44 2.37 3.47 2.\n",
      " 3.83 2.58 2.64 3.85 3.69 3.07 2.05 3.56 3.36 3.27 3.82 2.65 3.78 3.76\n",
      " 3.32 2.8  2.75 2.19 2.81 3.54 3.79 3.84 2.55 2.57 2.14 2.35 2.69 2.12\n",
      " 3.77 3.34 3.48 3.09 2.82 3.37 2.21 3.9  2.2  3.01 3.6  2.53 2.74 3.12\n",
      " 2.29 2.38 3.93 3.45 3.05 2.71 2.77 2.16 3.2  2.11 3.22 2.33 3.46 2.96\n",
      " 3.98 3.68 3.87 2.09 3.23 3.4  2.15 2.73 3.25 3.26 3.74 2.61 2.22 3.67\n",
      " 3.5  4.   2.72 3.59 2.24]\n",
      "SAT_Score: [1052 1211 1193 1497 1012 1600 1011 1074 1201 1415 1120 1070 1217 1112\n",
      " 1152 1023 1539 1523  984  964 1245 1531 1142 1036 1146 1340  944 1557\n",
      " 1587 1453  988 1127 1190 1321  966 1150  940  998 1205 1355 1490 1200\n",
      " 1098 1558 1387 1005 1300 1376 1021  976 1581 1417 1096  997 1358 1129\n",
      " 1067  907 1071 1259 1094 1168  918 1253  948 1363 1255 1057  965 1470\n",
      " 1207 1236 1570 1020 1303 1546 1467  995 1013 1328 1439  901 1111 1479\n",
      " 1232  923 1267 1405 1075 1341 1447 1413 1260 1173 1076 1163 1085 1426\n",
      " 1178 1097 1248 1320 1204  963 1189  917 1229  916 1342 1040 1343 1395\n",
      " 1325 1374 1144 1349 1250 1498 1060 1039 1392 1487 1430 1292  949 1194\n",
      " 1324  911 1234  914  927 1287 1191 1149 1404  938  937 1199 1078 1508\n",
      " 1368 1181 1063 1352  996 1208 1161 1192 1148 1022 1224 1580 1400 1586\n",
      "  958 1397 1272 1165 1552 1135 1117 1549 1305 1500 1488 1547 1009 1252\n",
      "  990 1313  972 1584 1446 1197 1544 1182  931 1240 1233 1042 1309  943\n",
      " 1322 1390 1059 1106 1002 1481 1530 1550 1571 1131 1559 1323 1138 1048\n",
      " 1522 1307 1125 1551 1555 1159 1573 1503 1073 1104 1314 1407 1016 1564\n",
      " 1055 1575  981 1137 1483 1506 1225 1489 1583 1377 1154  962 1302 1091\n",
      " 1228  970 1196 1418 1103 1545 1493 1432 1027 1093 1083 1223 1521 1153\n",
      "  959 1017 1455  935 1116 1437 1475 1122  979 1462 1357 1513 1421 1356\n",
      "  999 1279 1231 1436 1410  941 1288  980 1301 1006 1010 1176 1113 1033\n",
      " 1270 1156 1596 1079  947  945 1350  955 1556  991  978 1561 1210 1215\n",
      " 1567 1367 1361 1565 1263 1365 1065  974 1171 1590 1402 1486 1242 1599\n",
      " 1534 1029 1257 1591 1394 1381  977 1220  922 1092  905 1382 1031  992\n",
      " 1540 1291 1494 1316 1136 1186 1286 1281 1068 1167 1375 1295 1188 1588\n",
      "  920 1463 1337 1132 1511 1499  939 1081 1164 1593 1331 1095 1408 1346\n",
      " 1427 1101 1504 1032 1038 1568  969 1151 1345 1235 1460 1371 1459 1507\n",
      " 1064 1484  928 1378 1008 1105 1133 1086 1306 1419  952 1297 1290 1548\n",
      "  985 1457 1420 1526 1283 1461 1434 1277 1275  987 1053 1362 1468 1524\n",
      " 1458 1598 1160 1554 1124 1454 1353 1562 1195 1474 1541 1515 1202 1569\n",
      " 1520 1335 1045 1251 1469 1379 1537 1472 1062 1492 1069 1273 1102  946\n",
      " 1326 1216 1380 1162 1327 1296 1115 1398  942 1141  994 1087 1284 1299\n",
      " 1066 1024 1572  986 1388 1244  930 1034 1424  903 1077 1158 1262 1099\n",
      " 1443 1334 1172 1329 1514 1444 1396 1310 1140 1221 1274 1311 1525 1553\n",
      " 1025 1464 1577 1516 1183  908 1319 1247 1560 1265 1126 1442 1348 1372\n",
      " 1315  902 1359  957 1084 1230 1406 1452 1445  909 1019 1003  951  900\n",
      "  910  904 1261 1268 1246  924 1414 1114 1312 1501 1157 1155 1089 1502\n",
      " 1072 1527 1480 1317 1385 1336 1519  913 1533 1134 1043 1128 1294 1412\n",
      " 1482 1271 1566 1471 1026 1496  932 1175  989 1423 1298 1119 1318 1278\n",
      " 1266  982 1280 1282 1529 1538 1422 1061  968 1088 1441 1597  956 1139\n",
      " 1100 1000 1449  919 1035 1177 1536 1366 1579 1080 1399 1254 1110 1495\n",
      "  929 1476 1121 1517 1411 1364 1391 1219 1542 1289 1293 1582 1169 1179\n",
      " 1049 1238 1401  960 1198 1448 1330 1386 1108 1170 1227 1509 1505 1491\n",
      " 1512 1409 1373 1218 1044 1212 1466 1339  954 1451 1276 1185 1037  906\n",
      " 1428 1595 1054 1578  961 1226 1180 1308 1203 1014 1143 1510 1332 1213\n",
      " 1241 1429 1384 1239 1015  973 1585 1592 1563 1532 1594 1333 1147 1535\n",
      " 1243 1206 1007 1473 1109 1440  950 1393 1477 1004 1383 1222 1258 1174\n",
      "  926 1056  921  936 1304 1030 1369 1347 1478 1051 1351 1123 1543 1264\n",
      "  975 1214 1450 1518 1041 1431 1389 1001 1090 1269 1184 1018 1338 1118\n",
      "  934 1360  915 1209 1433 1416 1130 1574 1403  933 1145  953  967 1435\n",
      "  912  971 1465 1438 1344 1354  925 1370 1456 1107 1166 1285 1082 1046\n",
      " 1050  993 1576 1528 1047  983 1425 1256 1187 1028 1589 1058 1485 1249]\n",
      "University_Ranking: [ 291  112  715  170  599  631  610  240  337  138  594  236  648  794\n",
      "    3  571  116  472  131  934  898  483  401  201  292  342  991  216\n",
      "  636  585  366  890  642  469  418   27  677  455  918  580   14   98\n",
      "  279  940  490  985  961  883  759  624  207  864  846  233  573  597\n",
      "  695  239  250  583  740  306 1000  908  463  783  913  802   39  998\n",
      "  718  183  699  645   30  388  767  143  615  419   74   55  962  748\n",
      "  572   24  988   22  428   32  863  339  947  981  515  512   70  672\n",
      "   88  877  764  219  713  589  270  819  651   78  592   10  468  336\n",
      "  186  546  121  565  668  274  410  358  647  941  241  557  711  993\n",
      "  803  948  114  487  789  156  352   44  312  663  944  436  754  823\n",
      "  299  562  262  673   62  567  423  396  884  996   31  330  949  169\n",
      "  266  308  459  185  334  441  391  772  935  560  254  586  335  400\n",
      "  166  260    4  888  119  923  470  785  493  738  500  694  865  776\n",
      "  370  181    5  197   47  970  552  634  140  862  665  540  427  687\n",
      "  561  854  310  539  840  390  733  361   69  662  431  885  758  708\n",
      "  979  621  513  182  686  681  248  620  882  297  928  302  476  873\n",
      "  482  317  737  397   89  234  168  743  126  120  190  633  202   59\n",
      "  697  223  492   11  793  701  814  749   34  340  481  574  825  739\n",
      "   93  628  844  133  989  805  444  705  912  969  298   61  458  973\n",
      "  304  958  861  448  953  836  881  485   77  549  659   92  851  466\n",
      "  889   40  690  329  285  554  797   66  657  632  109  415  368  820\n",
      "  435  212  526  730  792  875  210  256  683   73  147  618  606  575\n",
      "  154  255  351  547  835  808  765  669  134  129  280  930  252  135\n",
      "  843  523  804  660  319   80  191  453  344  414  871  741  596  502\n",
      "   21  246  283  614  931  806  232  316  838  800  976  411  245  387\n",
      "  689  725  798   19  287  276  679  603   72  365  950  795  652  751\n",
      "  590  199   17  218  852  650  670  856  895  870  163  101  327  155\n",
      "  353  939  646    6  333  258  211   51  445  377  640  486  770  582\n",
      "  788  791  399  220  971  569  946  115  499  149  123  839  826   63\n",
      "   16  217  479  380  658  977  237  972  598  510  165  277  257  132\n",
      "  992  570  141  209  716  519  503  259  178  922  543  356  318  666\n",
      "  963  364  593  678  542  322  357  359   75  959  591  194  997  363\n",
      "   96  768  107  527  929  784  525  726   43  626  842  350  653  778\n",
      "  611   94  723  295  899  214  422  192  807  224  555  693  474  608\n",
      "  203  447  833  847  900   68  829  559  999  103  273  534  859  464\n",
      "  104  367  810  508  775  777  504  588  439  566  443  263  936  872\n",
      "  222    2  910  394  146  530  528  965  671  919  205  625  721   15\n",
      "  858  278  128   38  609  198  704    7  556  332    1  343  601   18\n",
      "  371  822  579  605  235    8  462  311  385   56  360  108  535  144\n",
      "  869  656  307  874  857  639  405  837  831  753  780  812  564  265\n",
      "  227  193  374  954   52  752   99   13  816   81  261  373  917   60\n",
      "  221  349  228  290  293  956  955  506  398  769  309  189  924  375\n",
      "  760  454   42  465  480  460  974  386   85  243  880  177  130   83\n",
      "  532  742  638  471  498  507  354  416  600  682  348  538  176  901\n",
      "  907  987  688  437  160  860  932  402  328  225  558  550  521  253\n",
      "  787   71  551   90  430  916  904  915  544  952  786  855   82  720\n",
      "  545   84  680  897  341  153  110  828  432  724  763  331  494  824\n",
      "  848  604  834  815  449  289  841  313  272  136  676  722  685  878\n",
      "  442  696  655   12  520  809  674  541  756  629  773  747  305  345\n",
      "  175  849  395  866   91  434  249  644  702  496  744  801  275   41\n",
      "  208  790  381  433  731  389  117  267  886  179  148  887  137  978\n",
      "  612  595  393  914  152   79  200  762  213  813  967  745  986  102\n",
      "  951   25   97  727  909  729   45   67  384  966  714  774  409   58\n",
      "  477  403  531  475  162  892  230  281  876  338  355  321  850  719\n",
      "  717  896  429  757  635  326   29  698  581  879  231  827  984  927\n",
      "  761  902  456  382  195  122  196   36  968  509   53  911  407  124\n",
      "  376  392  926  491  438   46  488  517  903  145  735  406  484  268\n",
      "   95   37  303  518  818  736  817  616  404  766  661  323  251  347\n",
      "  706  362  296   49  964  990  269  100  215  995  630  548  654   57\n",
      "   76  369  184   86  164  576  238  180  692  473  675  619  284  732\n",
      "  938  151  315  161  511  157  563  921    9  796  105  489  799   50\n",
      "   87  703  943  325  451  983  514  893  113  960   23  602  627   33\n",
      "   35  537  288  111  533  229  980  667  982  142   65  452  172  413\n",
      "  244  707  516  811  450  607  372  320  568  684  933  821  408  425\n",
      "  497  830  495  294  174  150  925  167  709  746  524  641  314  937\n",
      "  617  868  158  853   28   48  264  204  324  379  242  957  832  578\n",
      "  171  994  975  728  424  501  286  891  300  779  440  301   26  173\n",
      "  529  649  623  139  505   54  467  426  750  536  118  712  378  412\n",
      "  771  920  782  188  643  478  553  187  383  420  587  622  127  613\n",
      "  446  894  125  457  700  942  637  282  755  691  247  421  945  106\n",
      "  664  845  159  905  417  461  906   20  346  522   64  584  206]\n",
      "University_GPA: [3.96 3.63 2.63 2.81 2.48 3.78 3.83 2.84 3.31 2.33 2.87 3.26 2.77 2.72\n",
      " 2.   3.61 3.94 3.44 3.1  2.54 4.   3.18 3.36 3.69 2.02 2.44 3.33 3.79\n",
      " 3.37 2.83 3.48 3.21 2.58 3.85 3.58 2.43 2.69 3.75 2.1  3.02 2.96 3.5\n",
      " 2.56 3.14 2.21 2.39 3.22 3.77 3.51 3.19 3.76 2.89 3.86 2.99 3.39 2.14\n",
      " 3.49 2.68 2.7  2.24 2.29 2.37 2.66 2.74 3.45 2.17 2.91 3.55 3.12 2.15\n",
      " 2.45 2.98 3.03 3.47 3.67 3.81 2.31 2.64 2.95 2.86 2.41 2.12 3.09 3.4\n",
      " 2.76 3.38 3.2  2.11 2.16 2.04 2.35 3.59 3.6  3.05 2.57 3.62 3.35 2.2\n",
      " 3.82 2.27 2.49 3.06 2.97 3.9  2.22 3.17 2.59 3.07 2.9  3.73 3.74 2.94\n",
      " 3.95 2.01 2.25 2.34 3.7  3.91 2.52 3.23 2.19 3.01 2.82 2.13 2.09 3.29\n",
      " 2.51 2.93 2.67 3.24 2.85 2.78 3.11 2.8  2.05 3.65 2.42 3.08 3.54 3.\n",
      " 2.79 3.42 2.75 3.8  3.27 3.93 2.32 3.16 3.97 3.04 3.3  3.43 2.65 3.52\n",
      " 2.73 3.98 3.25 2.55 2.23 3.72 3.89 2.5  3.99 3.88 3.34 2.61 3.87 3.41\n",
      " 2.71 2.28 3.53 3.46 3.15 2.03 2.26 2.18 3.57 3.68 2.88 2.47 3.92 2.46\n",
      " 2.07 2.3  2.4  3.84 3.28 2.62 3.66 2.92 3.13 2.36 2.38 2.6  2.08 3.56\n",
      " 2.53 3.71 3.64 2.06 3.32]\n",
      "Field_of_Study: ['Arts' 'Law' 'Medicine' 'Computer Science' 'Engineering' 'Business'\n",
      " 'Mathematics']\n",
      "Internships_Completed: [3 4 2 0 1]\n",
      "Projects_Completed: [7 8 9 6 3 1 5 2 0 4]\n",
      "Certifications: [2 3 1 4 5 0]\n",
      "Soft_Skills_Score: [ 9  8  1 10  2  3  5  6  7  4]\n",
      "Networking_Score: [ 8  1  9  6  2  3  5  4 10  7]\n",
      "Job_Offers: [5 4 0 1 2 3]\n",
      "Starting_Salary: [ 27200.  25000.  42400.  57400.  47600.  68400.  55500.  38000.  68900.\n",
      "  58900.  26300.  35100.  42600.  76500.  61100.  34500.  97500.  61800.\n",
      "  32200.  45500.  42200.  37400.  69500.  48100.  63900.  44600.  41000.\n",
      "  50300.  38300.  49500.  41500.  29800.  70300.  57500.  43000.  50200.\n",
      "  53400.  56300.  38400.  53200.  78700.  65500.  49800.  47900.  52000.\n",
      "  42000.  52100.  64500.  63500.  67200.  40600.  50900.  82700.  35400.\n",
      "  48300.  31800.  51600.  65600.  75700.  35000.  37600.  73700.  40400.\n",
      "  64600.  34300.  62600.  74400.  71500.  71900.  51200.  37900.  36000.\n",
      "  60500.  56600.  71100.  42700.  62100.  38100.  62300.  33300.  80600.\n",
      "  79900.  39000.  51800.  48000.  27800.  73000.  74000.  70200.  71300.\n",
      "  36400.  30300.  33900.  56800.  29900.  52600.  58300.  47200.  50600.\n",
      "  89100.  56100.  67600.  63600.  62500.  54100.  54200.  76000.  41100.\n",
      "  63200.  46500.  96700.  85500.  61000.  73800.  54800.  51500.  58500.\n",
      "  36100.  56900.  82000.  43800.  61500.  41700.  50700.  49600.  66800.\n",
      "  47500.  36300.  52200.  47100.  29700.  46000.  66900.  25400.  39300.\n",
      "  32800.  33400.  46400.  37100.  26500.  44400.  44900.  35500.  68800.\n",
      "  53900.  31400.  40300.  59500.  67900.  61600.  82200.  41600.  43900.\n",
      "  38900.  61700.  31500.  49200.  72200.  62200.  75000.  56500.  44800.\n",
      "  71800.  37300.  46300.  57300.  61300.  65200.  62900.  58800.  72900.\n",
      "  58600.  34400.  35300.  26000.  32000.  25600.  45100.  43700.  62400.\n",
      "  25200.  60600.  43600.  40800.  77200.  43300.  61400.  48200.  66100.\n",
      "  30700.  45300.  50100.  59200.  30400.  27000.  29500.  52700.  48800.\n",
      "  32900.  44700.  50400.  54300.  49700.  72100.  57900.  77500.  69000.\n",
      "  47000.  25100.  65100.  64400.  69700.  67800.  57700.  57600.  40500.\n",
      "  67000.  46100.  59300.  34200.  52300.  74900.  81500.  60400.  61200.\n",
      "  63800.  34000.  30800.  54600.  52400.  42900.  38200.  26700.  34100.\n",
      "  67400.  68100.  64100.  50000.  59100.  42800.  31000.  40900.  72400.\n",
      "  43100.  46600.  57800.  81200.  64300.  53100.  50800.  36500.  44100.\n",
      "  55300.  71200.  45400.  39400.  31100.  63000.  74300.  48900.  55600.\n",
      "  49000.  44300.  55800.  67100.  40000.  74700.  69200.  65900.  64900.\n",
      "  45000.  41800.  82300.  32100.  44000.  72600.  59800.  79200.  36800.\n",
      "  73200.  68000.  83100.  35600.  58400.  47800.  46800.  60100.  53500.\n",
      "  65700.  47700.  36600.  73900.  45200.  48700.  48500.  31300.  74200.\n",
      "  28300.  66300.  75100.  60200.  53300.  45700.  64700.  56000.  67300.\n",
      "  35700.  55900.  41300.  60900.  69900.  58000.  58200.  62000.  54500.\n",
      "  33800.  39900.  51400.  31600.  67700.  60800.  32300.  63400.  79600.\n",
      "  70800.  37800.  60000.  25800.  39200.  27700.  33700.  38700.  55000.\n",
      "  72000.  59600.  26200.  62700.  44500.  51000.  34600.  49100.  49400.\n",
      "  46900.  69100.  69400.  29300.  30200.  51100.  32600.  37200.  81600.\n",
      "  34800.  69300.  32700.  57100.  52900.  65400.  49300.  53800.  42500.\n",
      "  45600.  56700.  51900.  41400.  54000.  28800.  79000.  25500.  60300.\n",
      "  65300.  40200.  55100.  26100.  54700.  78900.  59700.  36200.  48600.\n",
      "  48400.  28400.  78200.  56400.  36900.  57200.  40100.  33200.  73600.\n",
      "  66700.  43200.  51700.  55400.  68700.  71600.  67500.  65000.  42100.\n",
      "  50500.  64800.  63300.  35200.  28000.  37700.  31700.  26800.  60700.\n",
      "  37000.  56200.  29200.  78600.  54400.  57000.  77000.  30500.  80000.\n",
      "  45900.  81700.  78300.  35800.  39800.  72500.  70600.  46700.  53000.\n",
      "  43500.  52800.  47400.  41900.  72700.  76700.  59400.  66400.  83900.\n",
      "  68600.  51300.  29000.  33000.  49900.  38600.  89300.  69800.  28600.\n",
      "  71000.  77800.  75900.  58700.  45800.  55200.  70700.  33500.  55700.\n",
      "  68300.  70000.  27600.  26900.  33100.  72800.  54900.  85700.  34900.\n",
      "  79800.  79100.  74100.  80700.  62800.  59900.  88500.  73300.  77600.\n",
      "  61900.  44200.  39600.  38800.  52500.  66200.  43400.  58100.  37500.\n",
      "  85100.  25700.  75400.  80900.  53700.  63700.  68200.  81300.  66600.\n",
      "  33600.  42300.  34700.  87500.  80300.  29400.  39500.  92400.  28100.\n",
      "  39700.  69600.  59000.  88900.  96900.  76400.  70100.  39100.  89600.\n",
      "  35900.  25900.  30600.  70400.  74600.  72300.  46200.  64000.  63100.\n",
      "  53600.  77900.  70900.  76300.  38500.  26400.  90400.  28700.  74800.\n",
      "  47300.  64200.  65800.  27400.  66500. 101000.  80500.  25300.  75300.\n",
      "  30100.  36700.  81100.  74500.  89400.  68500.  79300.  77300.  27900.\n",
      "  81800.  32400.  71700.  71400.  29600.  75500.  82800.  90600.  78800.\n",
      "  80800.  78100.  84500.  31900.  90800.  86100.  28500.  84000.  30900.\n",
      "  91000.  40700.  92500.  89900.  84700.  75200.  86300.  84900.  82400.\n",
      "  28200.  75800.  86200.  83000.  32500.  70500.  86000.  31200.  66000.\n",
      "  76100.  78400.  87400.  86900.  83200.  81900.  26600.  83600.  29100.\n",
      "  76600.  86800.  94400.  88400.  88200.  98200.  89500.  80200.  90900.\n",
      "  79500.  41200.  73500.  27300.  78000.  98900.  27100.  27500.  90700.\n",
      "  84400.  83500.  93000.  75600.  79400.  77100.  87000.  30000.  76200.\n",
      "  77400.  76900.  28900.  89700.  77700. 100600.  84600.  79700.  80100.\n",
      "  80400.  84800.]\n",
      "Career_Satisfaction: [ 4  1  9  7  2  8  5  3 10  6]\n",
      "Years_to_Promotion: [5 1 3 2 4]\n",
      "Current_Job_Level: ['Entry' 'Mid' 'Senior' 'Executive']\n",
      "Work_Life_Balance: [ 7  5  2  8  3  6  9  1 10  4]\n",
      "Entrepreneurship: ['No' 'Yes']\n"
     ]
    }
   ],
   "source": [
    "# check data formatting\n",
    "for col in df.columns:\n",
    "    print(f\"{col}: {df[col].unique()}\")"
   ]
  },
  {
   "cell_type": "markdown",
   "metadata": {},
   "source": [
    "<p>Columns have consistent formatting.</p>"
   ]
  },
  {
   "cell_type": "code",
   "execution_count": 24,
   "metadata": {},
   "outputs": [
    {
     "name": "stdout",
     "output_type": "stream",
     "text": [
      "<class 'pandas.core.frame.DataFrame'>\n",
      "RangeIndex: 5000 entries, 0 to 4999\n",
      "Data columns (total 20 columns):\n",
      " #   Column                 Non-Null Count  Dtype  \n",
      "---  ------                 --------------  -----  \n",
      " 0   Student_ID             5000 non-null   object \n",
      " 1   Age                    5000 non-null   int64  \n",
      " 2   Gender                 5000 non-null   object \n",
      " 3   High_School_GPA        5000 non-null   float64\n",
      " 4   SAT_Score              5000 non-null   int64  \n",
      " 5   University_Ranking     5000 non-null   int64  \n",
      " 6   University_GPA         5000 non-null   float64\n",
      " 7   Field_of_Study         5000 non-null   object \n",
      " 8   Internships_Completed  5000 non-null   int64  \n",
      " 9   Projects_Completed     5000 non-null   int64  \n",
      " 10  Certifications         5000 non-null   int64  \n",
      " 11  Soft_Skills_Score      5000 non-null   int64  \n",
      " 12  Networking_Score       5000 non-null   int64  \n",
      " 13  Job_Offers             5000 non-null   int64  \n",
      " 14  Starting_Salary        5000 non-null   float64\n",
      " 15  Career_Satisfaction    5000 non-null   int64  \n",
      " 16  Years_to_Promotion     5000 non-null   int64  \n",
      " 17  Current_Job_Level      5000 non-null   object \n",
      " 18  Work_Life_Balance      5000 non-null   int64  \n",
      " 19  Entrepreneurship       5000 non-null   object \n",
      "dtypes: float64(3), int64(12), object(5)\n",
      "memory usage: 781.4+ KB\n",
      "None\n"
     ]
    }
   ],
   "source": [
    "# check data types\n",
    "print(df.info())"
   ]
  },
  {
   "cell_type": "markdown",
   "metadata": {},
   "source": [
    "<p>Columns have appropriate data types.</p>"
   ]
  },
  {
   "cell_type": "code",
   "execution_count": 25,
   "metadata": {},
   "outputs": [
    {
     "name": "stdout",
     "output_type": "stream",
     "text": [
      "There are 0 duplicate Student IDs.\n",
      "There are 0 duplicate entries.\n"
     ]
    }
   ],
   "source": [
    "# check for duplicate entries\n",
    "print(f\"There are {df['Student_ID'].duplicated().sum()} duplicate Student IDs.\")\n",
    "print(f\"There are {df.duplicated().sum()} duplicate entries.\")"
   ]
  },
  {
   "cell_type": "markdown",
   "metadata": {},
   "source": [
    "<p>The data does NOT contain duplicates.</p>"
   ]
  },
  {
   "cell_type": "code",
   "execution_count": 29,
   "metadata": {},
   "outputs": [
    {
     "name": "stdout",
     "output_type": "stream",
     "text": [
      "Student_ID               False\n",
      "Age                      False\n",
      "Gender                   False\n",
      "High_School_GPA          False\n",
      "SAT_Score                False\n",
      "University_Ranking       False\n",
      "University_GPA           False\n",
      "Field_of_Study           False\n",
      "Internships_Completed    False\n",
      "Projects_Completed       False\n",
      "Certifications           False\n",
      "Soft_Skills_Score        False\n",
      "Networking_Score         False\n",
      "Job_Offers               False\n",
      "Starting_Salary          False\n",
      "Career_Satisfaction      False\n",
      "Years_to_Promotion       False\n",
      "Current_Job_Level        False\n",
      "Work_Life_Balance        False\n",
      "Entrepreneurship         False\n",
      "dtype: bool\n"
     ]
    }
   ],
   "source": [
    "# check for missing data\n",
    "print(df.isna().any())"
   ]
  },
  {
   "cell_type": "markdown",
   "metadata": {},
   "source": [
    "<p>The data does NOT contain missing values.</p>"
   ]
  },
  {
   "cell_type": "code",
   "execution_count": 34,
   "metadata": {},
   "outputs": [
    {
     "name": "stdout",
     "output_type": "stream",
     "text": [
      "               Age  High_School_GPA    SAT_Score  University_Ranking  University_GPA  Internships_Completed  Projects_Completed  Certifications  Soft_Skills_Score  Networking_Score   Job_Offers  Starting_Salary  Career_Satisfaction  Years_to_Promotion  Work_Life_Balance\n",
      "count  5000.000000      5000.000000  5000.000000         5000.000000     5000.000000            5000.000000         5000.000000     5000.000000        5000.000000       5000.000000  5000.000000      5000.000000          5000.000000         5000.000000        5000.000000\n",
      "mean     23.442200         2.996978  1253.832000          504.335600        3.020028               1.982200            4.562800        2.512200           5.546000          5.538000     2.488800     50563.540000             5.578000            3.015800           5.482400\n",
      "std       3.473712         0.575673   203.228954          291.060011        0.576047               1.408219            2.872927        1.703183           2.851159          2.850084     1.711859     14494.958207             2.871997            1.417446           2.883427\n",
      "min      18.000000         2.000000   900.000000            1.000000        2.000000               0.000000            0.000000        0.000000           1.000000          1.000000     0.000000     25000.000000             1.000000            1.000000           1.000000\n",
      "25%      20.000000         2.500000  1076.000000          256.000000        2.520000               1.000000            2.000000        1.000000           3.000000          3.000000     1.000000     40200.000000             3.000000            2.000000           3.000000\n",
      "50%      23.000000         2.990000  1257.000000          501.500000        3.030000               2.000000            5.000000        3.000000           6.000000          6.000000     2.000000     50300.000000             6.000000            3.000000           6.000000\n",
      "75%      26.000000         3.500000  1432.000000          759.000000        3.510000               3.000000            7.000000        4.000000           8.000000          8.000000     4.000000     60500.000000             8.000000            4.000000           8.000000\n",
      "max      29.000000         4.000000  1600.000000         1000.000000        4.000000               4.000000            9.000000        5.000000          10.000000         10.000000     5.000000    101000.000000            10.000000            5.000000          10.000000\n"
     ]
    }
   ],
   "source": [
    "# check for incorrect data\n",
    "print(df.describe())"
   ]
  },
  {
   "cell_type": "markdown",
   "metadata": {},
   "source": [
    "<p>Column ranges contain possible values.</p>"
   ]
  },
  {
   "cell_type": "code",
   "execution_count": 46,
   "metadata": {},
   "outputs": [
    {
     "name": "stdout",
     "output_type": "stream",
     "text": [
      "Age                      False\n",
      "High_School_GPA          False\n",
      "SAT_Score                False\n",
      "University_Ranking       False\n",
      "University_GPA           False\n",
      "Internships_Completed    False\n",
      "Projects_Completed       False\n",
      "Certifications           False\n",
      "Soft_Skills_Score        False\n",
      "Networking_Score         False\n",
      "Job_Offers               False\n",
      "Starting_Salary           True\n",
      "Career_Satisfaction      False\n",
      "Years_to_Promotion       False\n",
      "Work_Life_Balance        False\n",
      "dtype: bool\n"
     ]
    }
   ],
   "source": [
    "# check for outliers (using iqr)\n",
    "\n",
    "# extract only numeric data\n",
    "numeric_df = df.select_dtypes(include='number')\n",
    "\n",
    "# calculate the iqr for each column\n",
    "q1 = numeric_df.quantile(0.25)\n",
    "q3 = numeric_df.quantile(0.75)\n",
    "iqr = q3 - q1\n",
    "\n",
    "# compute outliers (values far from the middle 50% of the data)\n",
    "outliers = (numeric_df < (q1 - 1.5 * iqr)) | (numeric_df > (q3 + 1.5 * iqr))\n",
    "print(outliers.any())"
   ]
  },
  {
   "cell_type": "markdown",
   "metadata": {},
   "source": [
    "<p>The Starting_Salary column is the only column that contains outliers.</p>"
   ]
  },
  {
   "cell_type": "code",
   "execution_count": 128,
   "metadata": {},
   "outputs": [
    {
     "name": "stdout",
     "output_type": "stream",
     "text": [
      "Starting_Salary: 12\n"
     ]
    },
    {
     "data": {
      "image/png": "[encoded data removed]",
      "text/plain": [
       "<Figure size 600x500 with 1 Axes>"
      ]
     },
     "metadata": {},
     "output_type": "display_data"
    },
    {
     "name": "stdout",
     "output_type": "stream",
     "text": [
      "     Student_ID  Age  Gender  High_School_GPA  SAT_Score  University_Ranking  University_GPA Field_of_Study  Internships_Completed  Projects_Completed  Certifications  Soft_Skills_Score  Networking_Score  Job_Offers  Starting_Salary  Career_Satisfaction  Years_to_Promotion Current_Job_Level  Work_Life_Balance Entrepreneurship\n",
      "16       S00017   20  Female             3.73       1539                 116            3.78            Law                      3                   2               3                  2                 5           3          97500.0                    8                   5               Mid                  9               No\n",
      "128      S00129   24  Female             2.62       1039                 274            3.60           Arts                      0                   9               0                  1                 6           4          96700.0                    1                   1             Entry                  5              Yes\n",
      "1284     S01285   18  Female             3.89       1290                 213            3.99       Business                      2                   6               5                  1                 6           0          92400.0                    7                   5         Executive                  3               No\n",
      "1340     S01341   25  Female             2.97        900                 835            3.07            Law                      3                   7               4                  2                 9           5          96900.0                    7                   3             Entry                  2               No\n",
      "1809     S01810   28   Other             2.34       1089                  24            3.01           Arts                      0                   6               2                  3                 8           1         101000.0                    6                   4             Entry                  8               No\n",
      "2496     S02497   19    Male             2.82       1268                 937            2.78            Law                      4                   3               5                  4                 2           0          91000.0                   10                   5             Entry                  2               No\n",
      "2541     S02542   19    Male             2.94       1594                 569            3.36           Arts                      4                   9               5                 10                10           5          92500.0                    9                   1               Mid                  1              Yes\n",
      "3434     S03435   23    Male             2.90       1499                 223            2.87            Law                      4                   8               2                  3                 5           3          94400.0                    8                   3               Mid                  5               No\n",
      "3503     S03504   25    Male             3.99        982                 459            2.70    Engineering                      4                   6               2                 10                 2           0          98200.0                    4                   4            Senior                  5               No\n",
      "3830     S03831   20    Male             3.23       1238                 234            2.82           Arts                      2                   7               3                  5                 3           5          98900.0                    8                   1             Entry                  2              Yes\n",
      "4145     S04146   21  Female             2.01       1120                 594            3.96    Engineering                      1                   4               2                  3                 1           5          93000.0                    4                   3            Senior                  2              Yes\n",
      "4538     S04539   21    Male             2.38       1450                 943            3.93            Law                      1                   1               3                  3                 4           0         100600.0                    6                   5             Entry                  8               No\n"
     ]
    }
   ],
   "source": [
    "import matplotlib.pyplot as plt\n",
    "\n",
    "# investigate Starting_Salary outliers\n",
    "\n",
    "# check how many outliers\n",
    "print(f'Starting_Salary: {outliers[\"Starting_Salary\"].sum()}')\n",
    "\n",
    "# visualize outliers\n",
    "plt.figure(figsize=(6, 5))\n",
    "plt.boxplot(df['Starting_Salary'],\n",
    "            patch_artist=True,\n",
    "            boxprops={'facecolor': 'mediumspringgreen', 'color': 'green'},\n",
    "            whiskerprops={'color': 'green'},\n",
    "            capprops={'color': 'green'},\n",
    "            medianprops={'color': 'red', 'linewidth': 2})\n",
    "plt.title('Boxplot of Starting Salary', fontsize=16)\n",
    "plt.ylabel('Salary ($)')\n",
    "plt.xticks([])\n",
    "plt.grid(axis='y', linestyle='--', alpha=0.5)\n",
    "plt.show()\n",
    "\n",
    "# inspect outliers\n",
    "salary_outlier_index = outliers[outliers['Starting_Salary']].index\n",
    "print(df.iloc[salary_outlier_index])\n"
   ]
  },
  {
   "cell_type": "markdown",
   "metadata": {},
   "source": [
    "<p>The Starting_Salary column contains 12 outliers.</p>\n",
    "<p>These outliers are high outliers, meaning the starting salaries are especially large.</p>\n",
    "<p>The outliers will be kept, because they seem to be legitimate high starting salaries, not errors.</p>"
   ]
  }
 ],
 "metadata": {
  "kernelspec": {
   "display_name": "3.10.12",
   "language": "python",
   "name": "python3"
  },
  "language_info": {
   "codemirror_mode": {
    "name": "ipython",
    "version": 3
   },
   "file_extension": ".py",
   "mimetype": "text/x-python",
   "name": "python",
   "nbconvert_exporter": "python",
   "pygments_lexer": "ipython3",
   "version": "3.10.12"
  }
 },
 "nbformat": 4,
 "nbformat_minor": 2
}
